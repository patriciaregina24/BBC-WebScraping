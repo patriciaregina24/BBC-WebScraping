{
 "cells": [
  {
   "cell_type": "code",
   "execution_count": 1,
   "id": "f46bf70b-b04f-4a70-bb52-70f9c12998a7",
   "metadata": {},
   "outputs": [],
   "source": [
    "import requests\n",
    "from bs4 import BeautifulSoup\n",
    "from fake_useragent import UserAgent\n",
    "\n",
    "url = \"https://www.bbc.com/portuguese\"\n",
    "\n",
    "# Simulando um navegador real\n",
    "ua = UserAgent()\n",
    "\n",
    "headers = {\n",
    "    \"User-Agent\": ua.random\n",
    "}"
   ]
  },
  {
   "cell_type": "code",
   "execution_count": 2,
   "id": "d73186b8-bf29-4288-a9a7-dbff40e514e3",
   "metadata": {},
   "outputs": [
    {
     "name": "stdout",
     "output_type": "stream",
     "text": [
      "Destaques da BBC News para o dia de hoje: \n",
      "\n",
      " - Os brasileiros que ganham de R$ 4 mil a R$ 46 mil para trabalhar em cruzeiros 'sem folga e férias': 'Comprei apartamento e conheço 72 países'\n",
      " https://www.bbc.com/portuguese/articles/cy8x8dp8ey5o\n",
      "\n",
      " - O que diz a lei do século 18 que Trump usou para deportar venezuelanos para El Salvador\n",
      " https://www.bbc.com/portuguese/articles/c5y47z0qrglo\n",
      "\n",
      " - Como Elis Regina, que faria 80 anos, reinventou a MPB com emoção incomparável ao cantar\n",
      " https://www.bbc.com/portuguese/articles/c3vwe222qnpo\n",
      "\n",
      " - O que significa a equação na sepultura de Stephen Hawking\n",
      " https://www.bbc.com/portuguese/articles/c5y0j5d0z5eo\n",
      "\n",
      " - Blake Lively x Justin Baldoni: como a poderosa máquina de difamação de Hollywood encobre escândalos\n",
      " https://www.bbc.com/portuguese/articles/cly3d6z61ydo\n",
      "\n",
      " - De cartel mexicano às ruas dos EUA, BBC segue traficante na trilha do fentanil, ao qual Trump declarou guerra\n",
      " https://www.bbc.com/portuguese/articles/c778kdgp1gxo\n",
      "\n",
      " - Por que Trump deportou centenas de venezuelanos apesar de Justiça ter proibido\n",
      " https://www.bbc.com/portuguese/articles/cgkm0n02mp2o\n",
      "\n",
      " - O alívio e alegria de astronautas 'presos' no espaço há 9 meses com chegada do resgate\n",
      " https://www.bbc.com/portuguese/articles/cvgd04ykgrvo\n",
      "\n",
      " - Anistia ao 8 de janeiro: o que diz o projeto de lei e como pode beneficiar Bolsonaro\n",
      " https://www.bbc.com/portuguese/articles/cwye9ggvng5o\n",
      "\n",
      " - 'The Electric State': por que filme da Netflix com Millie Bobby Brown é 'sem alma', 'idiota' - e um sucesso\n",
      " https://www.bbc.com/portuguese/articles/c778ep5pgyeo\n",
      "\n"
     ]
    }
   ],
   "source": [
    "# Fazendo a requisição\n",
    "response = requests.get(url, headers=headers)\n",
    "\n",
    "if response.status_code == 200:\n",
    "    soup = BeautifulSoup(response.text, \"html.parser\")\n",
    "\n",
    "    artigos = soup.find_all(\"a\", class_=\"bbc-1i4ie53 e1d658bg0\")\n",
    "    \n",
    "    print(\"Destaques da BBC News para o dia de hoje: \\n\")\n",
    "    \n",
    "    for artigo in artigos[:10]:\n",
    "        titulo = artigo.get_text(strip=True)\n",
    "        link = artigo[\"href\"]\n",
    "        if link.startswith(\"/\"):\n",
    "            link = url + link\n",
    "        print(f\" - {titulo}\\n {link}\\n\")\n",
    "else:\n",
    "    print(f\"Erro ao acessar a página: {response.status_code}\")"
   ]
  }
 ],
 "metadata": {
  "kernelspec": {
   "display_name": "Python 3 (ipykernel)",
   "language": "python",
   "name": "python3"
  },
  "language_info": {
   "codemirror_mode": {
    "name": "ipython",
    "version": 3
   },
   "file_extension": ".py",
   "mimetype": "text/x-python",
   "name": "python",
   "nbconvert_exporter": "python",
   "pygments_lexer": "ipython3",
   "version": "3.12.4"
  }
 },
 "nbformat": 4,
 "nbformat_minor": 5
}
